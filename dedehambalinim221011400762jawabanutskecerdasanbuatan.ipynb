{
  "nbformat": 4,
  "nbformat_minor": 0,
  "metadata": {
    "colab": {
      "provenance": []
    },
    "kernelspec": {
      "name": "python3",
      "display_name": "Python 3"
    },
    "language_info": {
      "name": "python"
    }
  },
  "cells": [
    {
      "cell_type": "markdown",
      "source": [],
      "metadata": {
        "id": "zrG7bbaSAzNe"
      }
    },
    {
      "cell_type": "markdown",
      "source": [],
      "metadata": {
        "id": "Spp79cbzKQvZ"
      }
    },
    {
      "cell_type": "code",
      "source": [
        "{\n",
        " \"cells\": [\n",
        "  {\n",
        "   \"cell_type\": \"markdown\",\n",
        "   \"metadata\": {\n",
        "    \"id\": \"QiGcp6j9_QSz\"\n",
        "   },\n",
        "   \"source\": [\n",
        "    \"## Soal UTS\"\n",
        "   ]\n",
        "  },\n",
        "  {\n",
        "   \"cell_type\": \"code\",\n",
        "   \"execution_count\": 3,\n",
        "   \"metadata\": {\n",
        "    \"id\": \"RWdhQPRt8yrd\"\n",
        "   },\n",
        "   \"outputs\": [],\n",
        "   \"source\": [\n",
        "    \"\\n\",\n",
        "    \"# Data\\n\",\n",
        "    \"\\n\",\n",
        "    \"company_detail_list = [\\n\",\n",
        "    \"      {\\n\",\n",
        "    \"          'name': 'Company 1',\\n\",\n",
        "    \"          'domain': 'Retail',\\n\",\n",
        "    \"          'country': 'United States'\\n\",\n",
        "    \"      },\\n\",\n",
        "    \"      {\\n\",\n",
        "    \"          'name': 'Company 2',\\n\",\n",
        "    \"          'domain': 'Technology',\\n\",\n",
        "    \"          'country': 'United Kingdom'\\n\",\n",
        "    \"      },\\n\",\n",
        "    \"      {\\n\",\n",
        "    \"          'name': 'Company 3',\\n\",\n",
        "    \"          'domain': 'Healthcare',\\n\",\n",
        "    \"          'country': 'United States'\\n\",\n",
        "    \"      }\\n\",\n",
        "    \"  ]\\n\",\n",
        "    \"\\n\",\n",
        "    \"employee_detail_list = [\\n\",\n",
        "    \"     {\\n\",\n",
        "    \"          'name': 'EMP-0001',\\n\",\n",
        "    \"          'first_name': 'John',\\n\",\n",
        "    \"          'last_name': 'Doe',\\n\",\n",
        "    \"          'full_name': 'John Doe',\\n\",\n",
        "    \"          'company': 'Company 1',\\n\",\n",
        "    \"          'nationality': 'Australia'\\n\",\n",
        "    \"      },\\n\",\n",
        "    \"      {\\n\",\n",
        "    \"          'name': 'EMP-0002',\\n\",\n",
        "    \"          'first_name': 'Tom',\\n\",\n",
        "    \"          'last_name': 'Smith',\\n\",\n",
        "    \"          'full_name': 'Tom Smith',\\n\",\n",
        "    \"          'company': 'Company 2',\\n\",\n",
        "    \"          'nationality': 'United States'\\n\",\n",
        "    \"      },\\n\",\n",
        "    \"      {\\n\",\n",
        "    \"          'name': 'EMP-0003',\\n\",\n",
        "    \"          'first_name': 'Andrew',\\n\",\n",
        "    \"          'last_name': 'Sebastian',\\n\",\n",
        "    \"          'full_name': 'Andrew Sebastian',\\n\",\n",
        "    \"          'company': 'Company 3',\\n\",\n",
        "    \"          'nationality': 'United States'\\n\",\n",
        "    \"      },\\n\",\n",
        "    \"      {\\n\",\n",
        "    \"          'name': 'EMP-0005',\\n\",\n",
        "    \"          'first_name': 'Ying Han',\\n\",\n",
        "    \"          'last_name': 'Tan',\\n\",\n",
        "    \"          'full_name': 'Ying Han Tan',\\n\",\n",
        "    \"          'company': 'Company 1',\\n\",\n",
        "    \"          'nationality': 'Australia'\\n\",\n",
        "    \"      },\\n\",\n",
        "    \"      {\\n\",\n",
        "    \"          'name': 'EMP-0015',\\n\",\n",
        "    \"          'first_name': 'Kenneth',\\n\",\n",
        "    \"          'last_name': 'Ng',\\n\",\n",
        "    \"          'full_name': 'Kenneth Ng',\\n\",\n",
        "    \"          'company': 'Company 3',\\n\",\n",
        "    \"          'nationality': 'United States'\\n\",\n",
        "    \"      },\\n\",\n",
        "    \"      {\\n\",\n",
        "    \"          'name': 'EMP-0018',\\n\",\n",
        "    \"          'first_name': 'Rubby',\\n\",\n",
        "    \"          'last_name': 'Lee',\\n\",\n",
        "    \"          'full_name': 'Rubby Lee',\\n\",\n",
        "    \"          'company': 'Company 2',\\n\",\n",
        "    \"          'nationality': 'Hong Kong'\\n\",\n",
        "    \"      },\\n\",\n",
        "    \"     {\\n\",\n",
        "    \"          'name': 'EMP-0017',\\n\",\n",
        "    \"          'first_name': 'Robert',\\n\",\n",
        "    \"          'last_name': 'White',\\n\",\n",
        "    \"          'full_name': 'Robert White',\\n\",\n",
        "    \"          'company': 'Company 1',\\n\",\n",
        "    \"          'nationality': 'United Kingdom'\\n\",\n",
        "    \"      }\\n\",\n",
        "    \"  ]\\n\",\n",
        "    \"\\n\"\n",
        "   ]\n",
        "  },\n",
        "  {\n",
        "   \"cell_type\": \"markdown\",\n",
        "   \"metadata\": {\n",
        "    \"id\": \"hxAkwucFjatO\"\n",
        "   },\n",
        "   \"source\": [\n",
        "    \"The next few cells will show some examples on how to interact with our functions. Note that some of these function calls could be useful for you in completing the tasks below. \"\n",
        "   ]\n",
        "  },\n",
        "  {\n",
        "   \"cell_type\": \"markdown\",\n",
        "   \"metadata\": {\n",
        "    \"id\": \"097eOYQ-U5V2\",\n",
        "    \"jp-MarkdownHeadingCollapsed\": true\n",
        "   },\n",
        "   \"source\": [\n",
        "    \"## Task 1\\n\",\n",
        "    \"\\n\",\n",
        "    \"Please get the list of all Companies and sort by **Company Name** in reverse order.\\n\",\n",
        "    \"\\n\",\n",
        "    \"Expected result:\\n\",\n",
        "    \"\\n\",\n",
        "    \"\\n\",\n",
        "    \"```json\\n\",\n",
        "    \"[{\\n\",\n",
        "    \"    \\\"name\\\": \\\"Company 3\\\"\\n\",\n",
        "    \"}, {\\n\",\n",
        "    \"    \\\"name\\\": \\\"Company 2\\\"\\n\",\n",
        "    \"}, {\\n\",\n",
        "    \"    \\\"name\\\": \\\"Company 1\\\"\\n\",\n",
        "    \"}]\\n\",\n",
        "    \"```\\n\",\n",
        "    \"\\n\"\n",
        "   ]\n",
        "  },\n",
        "  {\n",
        "   \"cell_type\": \"markdown\",\n",
        "   \"metadata\": {\n",
        "    \"id\": \"sFbEZt5JoxMJ\"\n",
        "   },\n",
        "   \"source\": [\n",
        "    \"## Soal 2\\n\",\n",
        "    \"\\n\",\n",
        "    \"Please print all Domain value in every company (use print statement).\\n\",\n",
        "    \"\\n\",\n",
        "    \"Expected return:\\n\",\n",
        "    \"\\n\",\n",
        "    \"```\\n\",\n",
        "    \"    Company 1: Retail (United States)\\n\",\n",
        "    \"    Company 2: Technology (United Kingdom)\\n\",\n",
        "    \"    Company 3: Healthcare (United States)\\n\",\n",
        "    \"```\\n\",\n",
        "    \"\\n\",\n",
        "    \"\\n\"\n",
        "   ]\n",
        "  },\n",
        "  {\n",
        "   \"cell_type\": \"markdown\",\n",
        "   \"metadata\": {\n",
        "    \"id\": \"d617U0r8wvOd\"\n",
        "   },\n",
        "   \"source\": [\n",
        "    \"## Task 3\\n\",\n",
        "    \"\\n\",\n",
        "    \"List all Employees work By company domain.\\n\",\n",
        "    \"\\n\",\n",
        "    \"Expected return:\\n\",\n",
        "    \"\\n\",\n",
        "    \"```json\\n\",\n",
        "    \"{\\n\",\n",
        "    \"    \\\"Retail\\\": [\\n\",\n",
        "    \"         \\\"John Doe\\\",\\n\",\n",
        "    \"         \\\"Robert White\\\",\\n\",\n",
        "    \"         \\\"Ying Han Tan\\\"\\n\",\n",
        "    \"     ],\\n\",\n",
        "    \"    \\\"Technology\\\":[\\n\",\n",
        "    \"          \\\"Tom Smith\\\",\\n\",\n",
        "    \"          \\\"Rubby Lee\\\",\\n\",\n",
        "    \"     ],\\n\",\n",
        "    \"    \\\"Healthcare\\\": [\\n\",\n",
        "    \"         \\\"Kenneth Ng\\\",\\n\",\n",
        "    \"         \\\"Andrew Sebastian\\\"\\n\",\n",
        "    \"     ],\\n\",\n",
        "    \"}\\n\",\n",
        "    \"```\\n\",\n",
        "    \"\\n\"\n",
        "   ]\n",
        "  },\n",
        "  {\n",
        "   \"cell_type\": \"markdown\",\n",
        "   \"metadata\": {\n",
        "    \"id\": \"-a7IODNT3w0F\"\n",
        "   },\n",
        "   \"source\": [\n",
        "    \"## Task 4\\n\",\n",
        "    \"\\n\",\n",
        "    \"Create a function that return employees with it's company country.\\n\",\n",
        "    \"\\n\",\n",
        "    \"Expected return:\\n\",\n",
        "    \"\\n\",\n",
        "    \"\\n\",\n",
        "    \"```json\\n\",\n",
        "    \"[{\\n\",\n",
        "    \"    \\\"full_name\\\": \\\"John Doe\\\",\\n\",\n",
        "    \"    \\\"company\\\": \\\"Company 1\\\",\\n\",\n",
        "    \"    \\\"country\\\": \\\"United States\\\"\\n\",\n",
        "    \"}, {\\n\",\n",
        "    \"    \\\"full_name\\\": \\\"Tom Smith\\\",\\n\",\n",
        "    \"    \\\"company\\\": \\\"Company 2\\\",\\n\",\n",
        "    \"    \\\"country\\\": \\\"United Kingdom\\\"\\n\",\n",
        "    \"}, {\\n\",\n",
        "    \"    \\\"full_name\\\": \\\"Andrew Sebastian\\\",\\n\",\n",
        "    \"    \\\"company\\\": \\\"Company 3\\\",\\n\",\n",
        "    \"    \\\"country\\\": \\\"United Kingdom\\\"\\n\",\n",
        "    \"},  {\\n\",\n",
        "    \"    \\\"full_name\\\": \\\"Ying Han Tan\\\",\\n\",\n",
        "    \"    \\\"company\\\": \\\"Company 1\\\",\\n\",\n",
        "    \"    \\\"country\\\": \\\"United States\\\"\\n\",\n",
        "    \"},  {\\n\",\n",
        "    \"    \\\"full_name\\\": \\\"Kenneth Ng\\\",\\n\",\n",
        "    \"    \\\"company\\\": \\\"Company 3\\\",\\n\",\n",
        "    \"    \\\"country\\\": \\\"United States\\\"\\n\",\n",
        "    \"},  {\\n\",\n",
        "    \"    \\\"full_name\\\": \\\"Rubby Lee\\\",\\n\",\n",
        "    \"    \\\"company\\\": \\\"Company 2\\\",\\n\",\n",
        "    \"    \\\"country\\\": \\\"United Kingdom\\\"\\n\",\n",
        "    \"},   {\\n\",\n",
        "    \"    \\\"full_name\\\": \\\"Robert White\\\",\\n\",\n",
        "    \"    \\\"company\\\": \\\"Company 1\\\",\\n\",\n",
        "    \"    \\\"country\\\": \\\"United States\\\"\\n\",\n",
        "    \"},\\n\",\n",
        "    \"    \\n\",\n",
        "    \"]\\n\",\n",
        "    \"```\\n\",\n",
        "    \"\\n\"\n",
        "   ]\n",
        "  },\n",
        "  {\n",
        "   \"cell_type\": \"markdown\",\n",
        "   \"metadata\": {\n",
        "    \"id\": \"TXhXCiOrFcev\"\n",
        "   },\n",
        "   \"source\": [\n",
        "    \"## Task 5\\n\",\n",
        "    \"\\n\",\n",
        "    \"Create a function that return companies with a number of employees nationality that are working in the company.\\n\",\n",
        "    \"\\n\",\n",
        "    \"Expected return:\\n\",\n",
        "    \"\\n\",\n",
        "    \"\\n\",\n",
        "    \"```json\\n\",\n",
        "    \"[{\\n\",\n",
        "    \"    \\\"company\\\": \\\"Company 1\\\",\\n\",\n",
        "    \"    \\\"employee_nationality\\\": {\\n\",\n",
        "    \"        \\\"Australia\\\": 2,\\n\",\n",
        "    \"        \\\"Hong Kong\\\": 1\\n\",\n",
        "    \"    }\\n\",\n",
        "    \"}, {\\n\",\n",
        "    \"    \\\"company\\\": \\\"Company 2\\\",\\n\",\n",
        "    \"    \\\"employee_nationality\\\": {\\n\",\n",
        "    \"        \\\"Hong Kong\\\": 1,\\n\",\n",
        "    \"        \\\"United States\\\": 1\\n\",\n",
        "    \"    }\\n\",\n",
        "    \"}, {\\n\",\n",
        "    \"    \\\"company\\\": \\\"Company 3\\\",\\n\",\n",
        "    \"    \\\"employee_nationality\\\": {\\n\",\n",
        "    \"        \\\"United States\\\": 2\\n\",\n",
        "    \"    }\\n\",\n",
        "    \"}]\\n\",\n",
        "    \"```\\n\",\n",
        "    \"\\n\"\n",
        "   ]\n",
        "  }\n",
        " ],\n",
        " \"metadata\": {\n",
        "  \"colab\": {\n",
        "   \"collapsed_sections\": [],\n",
        "   \"name\": \"AT Backend Test.ipynb\",\n",
        "   \"provenance\": [\n",
        "    {\n",
        "     \"file_id\": \"1vK5VvfGC3SQ_onwiFXNdtvWQRvHAbeZa\",\n",
        "     \"timestamp\": 1650627195682\n",
        "    },\n",
        "    {\n",
        "     \"file_id\": \"1hHOgmPPwUDtWvGuaz2tuclaa6MJYUmIm\",\n",
        "     \"timestamp\": 1650504460415\n",
        "    },\n",
        "    {\n",
        "     \"file_id\": \"1HSO3CG0-7R5jptBBEx-CDHIDRjXgXmrl\",\n",
        "     \"timestamp\": 1650255042674\n",
        "    }\n",
        "   ]\n",
        "  },\n",
        "  \"kernelspec\": {\n",
        "   \"display_name\": \"Python 3 (ipykernel)\",\n",
        "   \"language\": \"python\",\n",
        "   \"name\": \"python3\"\n",
        "  },\n",
        "  \"language_info\": {\n",
        "   \"codemirror_mode\": {\n",
        "    \"name\": \"ipython\",\n",
        "    \"version\": 3\n",
        "   },\n",
        "   \"file_extension\": \".py\",\n",
        "   \"mimetype\": \"text/x-python\",\n",
        "   \"name\": \"python\",\n",
        "   \"nbconvert_exporter\": \"python\",\n",
        "   \"pygments_lexer\": \"ipython3\",\n",
        "   \"version\": \"3.9.13\"\n",
        "  }\n",
        " },\n",
        " \"nbformat\": 4,\n",
        " \"nbformat_minor\": 4\n",
        "}"
      ],
      "metadata": {
        "id": "qU9Z7OnBKRS7"
      },
      "execution_count": null,
      "outputs": []
    },
    {
      "source": [
        "def get_sorted_companies(company_detail_list):\n",
        "  company_names = [company['name'] for company in company_detail_list]\n",
        "  sorted_company_names = sorted(company_names, reverse=True)\n",
        "  sorted_companies = [{'name': name} for name in sorted_company_names]\n",
        "  return sorted_companies\n",
        "\n",
        "company_detail_list = [\n",
        "    {\n",
        "        'name': 'Company 1',\n",
        "        'domain': 'Retail',\n",
        "        'country': 'United States'\n",
        "    },\n",
        "    {\n",
        "        'name': 'Company 2',\n",
        "        'domain': 'Technology',\n",
        "        'country': 'United Kingdom'\n",
        "    },\n",
        "    {\n",
        "        'name': 'Company 3',\n",
        "        'domain': 'Healthcare',\n",
        "        'country': 'United States'\n",
        "    }\n",
        "]\n",
        "\n",
        "print(get_sorted_companies(company_detail_list))"
      ],
      "cell_type": "code",
      "metadata": {
        "colab": {
          "base_uri": "https://localhost:8080/"
        },
        "id": "6kIrQ0FVKdBz",
        "outputId": "df5d19c3-eeb6-4719-d748-20501d6ba92b"
      },
      "execution_count": 52,
      "outputs": [
        {
          "output_type": "stream",
          "name": "stdout",
          "text": [
            "[{'name': 'Company 3'}, {'name': 'Company 2'}, {'name': 'Company 1'}]\n"
          ]
        }
      ]
    },
    {
      "source": [
        "def print_company_domains(company_detail_list):\n",
        "  for company in company_detail_list:\n",
        "    print(f\"    {company['name']}: {company['domain']} ({company['country']})\")\n",
        "\n",
        "print_company_domains(company_detail_list)"
      ],
      "cell_type": "code",
      "metadata": {
        "colab": {
          "base_uri": "https://localhost:8080/"
        },
        "id": "cdl7fkiPLCQV",
        "outputId": "b21145be-3228-490e-fb34-665b14f857cb"
      },
      "execution_count": 54,
      "outputs": [
        {
          "output_type": "stream",
          "name": "stdout",
          "text": [
            "    Company 1: Retail (United States)\n",
            "    Company 2: Technology (United Kingdom)\n",
            "    Company 3: Healthcare (United States)\n"
          ]
        }
      ]
    },
    {
      "source": [
        "def get_employees_by_company_domain(employee_detail_list, company_detail_list):\n",
        "    employees_by_domain = {}\n",
        "    for company in company_detail_list:\n",
        "        domain = company['domain']\n",
        "        employees_by_domain[domain] = []\n",
        "        for employee in employee_detail_list:\n",
        "            if employee['company'] == company['name']:\n",
        "                employees_by_domain[domain].append(employee['full_name'])\n",
        "    return employees_by_domain\n",
        "\n",
        "print(get_employees_by_company_domain(employee_detail_list, company_detail_list))"
      ],
      "cell_type": "code",
      "metadata": {
        "colab": {
          "base_uri": "https://localhost:8080/"
        },
        "id": "OGtyNElbLI6B",
        "outputId": "217e0240-b4d9-403c-cea8-9e2865679771"
      },
      "execution_count": 56,
      "outputs": [
        {
          "output_type": "stream",
          "name": "stdout",
          "text": [
            "{'Retail': ['John Doe', 'Ying Han Tan', 'Robert White'], 'Technology': ['Tom Smith', 'Rubby Lee'], 'Healthcare': ['Andrew Sebastian', 'Kenneth Ng']}\n"
          ]
        }
      ]
    },
    {
      "source": [
        "def get_employees_with_company_country(employee_detail_list, company_detail_list):\n",
        "  result = []\n",
        "  for employee in employee_detail_list:\n",
        "    company_name = employee['company']\n",
        "    country = next((company['country'] for company in company_detail_list if company['name'] == company_name), None)\n",
        "    if country:\n",
        "        result.append({\n",
        "            'full_name': employee['full_name'],\n",
        "            'company': employee['company'],\n",
        "            'country': country\n",
        "        })\n",
        "  return result\n",
        "\n",
        "print(get_employees_with_company_country(employee_detail_list, company_detail_list))"
      ],
      "cell_type": "code",
      "metadata": {
        "colab": {
          "base_uri": "https://localhost:8080/"
        },
        "id": "4_xb97JsLQGr",
        "outputId": "77853c2a-a7c1-4fab-9734-f511e9ce6f55"
      },
      "execution_count": 58,
      "outputs": [
        {
          "output_type": "stream",
          "name": "stdout",
          "text": [
            "[{'full_name': 'John Doe', 'company': 'Company 1', 'country': 'United States'}, {'full_name': 'Tom Smith', 'company': 'Company 2', 'country': 'United Kingdom'}, {'full_name': 'Andrew Sebastian', 'company': 'Company 3', 'country': 'United States'}, {'full_name': 'Ying Han Tan', 'company': 'Company 1', 'country': 'United States'}, {'full_name': 'Kenneth Ng', 'company': 'Company 3', 'country': 'United States'}, {'full_name': 'Rubby Lee', 'company': 'Company 2', 'country': 'United Kingdom'}, {'full_name': 'Robert White', 'company': 'Company 1', 'country': 'United States'}]\n"
          ]
        }
      ]
    },
    {
      "source": [
        "def get_companies_with_employee_nationality(employee_detail_list, company_detail_list):\n",
        "    company_nationalities = {}\n",
        "    for employee in employee_detail_list:\n",
        "        company_name = employee['company']\n",
        "        nationality = employee['nationality']\n",
        "\n",
        "        if company_name not in company_nationalities:\n",
        "            company_nationalities[company_name] = {}\n",
        "\n",
        "        if nationality not in company_nationalities[company_name]:\n",
        "            company_nationalities[company_name][nationality] = 0\n",
        "\n",
        "        company_nationalities[company_name][nationality] += 1\n",
        "\n",
        "    result = []\n",
        "    for company in company_detail_list:\n",
        "        company_name = company['name']\n",
        "        if company_name in company_nationalities:\n",
        "            result.append({\n",
        "                'company': company_name,\n",
        "                'employee_nationality': company_nationalities[company_name]\n",
        "            })\n",
        "        else:\n",
        "            result.append({\n",
        "                'company': company_name,\n",
        "                'employee_nationality': {}\n",
        "            })\n",
        "\n",
        "    return result\n",
        "\n",
        "print(get_companies_with_employee_nationality(employee_detail_list, company_detail_list))"
      ],
      "cell_type": "code",
      "metadata": {
        "colab": {
          "base_uri": "https://localhost:8080/"
        },
        "id": "QVuv4_YuLYVR",
        "outputId": "d408ac8c-be2c-4e6f-952d-c76f3ac47a2c"
      },
      "execution_count": 65,
      "outputs": [
        {
          "output_type": "stream",
          "name": "stdout",
          "text": [
            "[{'company': 'Company 1', 'employee_nationality': {'Australia': 2, 'United Kingdom': 1}}, {'company': 'Company 2', 'employee_nationality': {'United States': 1, 'Hong Kong': 1}}, {'company': 'Company 3', 'employee_nationality': {'United States': 2}}]\n"
          ]
        }
      ]
    },
    {
      "source": [
        "def get_companies_with_employee_nationality(employee_detail_list, company_detail_list):\n",
        "    company_nationalities = {}\n",
        "    for employee in employee_detail_list:\n",
        "        company_name = employee['company']\n",
        "        nationality = employee['nationality']\n",
        "\n",
        "        if company_name not in company_nationalities:\n",
        "            company_nationalities[company_name] = {}\n",
        "\n",
        "        if nationality not in company_nationalities[company_name]:\n",
        "            company_nationalities[company_name][nationality] = 0\n",
        "\n",
        "        company_nationalities[company_name][nationality] += 1\n",
        "\n",
        "    result = []\n",
        "    for company_name in company_nationalities:\n",
        "        result.append({\n",
        "            'company': company_name,\n",
        "            'employee_nationality': company_nationalities[company_name]\n",
        "        })\n",
        "\n",
        "    return result"
      ],
      "cell_type": "code",
      "metadata": {
        "id": "BpMbss2WMiKl"
      },
      "execution_count": 74,
      "outputs": []
    },
    {
      "source": [
        "import matplotlib.pyplot as plt"
      ],
      "cell_type": "code",
      "metadata": {
        "id": "4e2Sre_nMr-m"
      },
      "execution_count": 68,
      "outputs": []
    },
    {
      "source": [
        "def plot_employee_nationality_by_company(data):\n",
        "    company_names = [company_data['company'] for company_data in data]\n",
        "    nationalities = set()\n",
        "    for company_data in data:\n",
        "        nationalities.update(company_data['employee_nationality'].keys())\n",
        "    nationalities = sorted(list(nationalities))\n",
        "\n",
        "    nationality_counts = []\n",
        "    for company_data in data:\n",
        "        counts = []\n",
        "        for nationality in nationalities:\n",
        "            counts.append(company_data['employee_nationality'].get(nationality, 0))\n",
        "        nationality_counts.append(counts)\n",
        "\n",
        "    fig, ax = plt.subplots(figsize=(10, 6))\n",
        "    x = range(len(company_names))\n",
        "\n",
        "    for i, nationality in enumerate(nationalities):\n",
        "        ax.plot(x, [counts[i] for counts in nationality_counts], label=nationality, marker='o')\n",
        "\n",
        "    ax.set_xticks(x)\n",
        "    ax.set_xticklabels(company_names)\n",
        "    ax.set_ylabel('Number of Employees')\n",
        "    ax.set_title('Number of Employees by Nationality per Company')\n",
        "    ax.legend(title='Nationality')\n",
        "    plt.xticks(rotation=45, ha='right')\n",
        "    plt.tight_layout()\n",
        "    plt.show()"
      ],
      "cell_type": "code",
      "metadata": {
        "id": "KB6B_aXaOB8Q"
      },
      "execution_count": 76,
      "outputs": []
    },
    {
      "source": [
        "data_task_5 = get_companies_with_employee_nationality(employee_detail_list, company_detail_list)"
      ],
      "cell_type": "code",
      "metadata": {
        "id": "PeClmC_DOLCN"
      },
      "execution_count": 77,
      "outputs": []
    },
    {
      "source": [
        "plot_employee_nationality_by_company(data_task_5)"
      ],
      "cell_type": "code",
      "metadata": {
        "colab": {
          "base_uri": "https://localhost:8080/",
          "height": 416
        },
        "id": "EVwAcZY4OOEe",
        "outputId": "cf5c49b1-d803-4117-90c8-3eb1f0d13984"
      },
      "execution_count": 78,
      "outputs": [
        {
          "output_type": "display_data",
          "data": {
            "text/plain": [
              "<Figure size 1000x600 with 1 Axes>"
            ],
            "image/png": "[encoded data removed]"
          },
          "metadata": {}
        }
      ]
    },
    {
      "cell_type": "code",
      "source": [
        "https://github.com/dedehambali17"
      ],
      "metadata": {
        "id": "D0uqkOtQOdeI"
      },
      "execution_count": null,
      "outputs": []
    }
  ]
}